{
 "cells": [
  {
   "cell_type": "code",
   "execution_count": null,
   "metadata": {},
   "outputs": [],
   "source": [
    "import os\n",
    "import time\n",
    "from basic_parameters import basic_params\n",
    "from process import processing_and_save\n",
    "timer = time.time()\n",
    "os.system(\"mpiexec -n 6 python3 base_model.py\")\n",
    "print(\"Simulation is finished!\")\n",
    "print(time.time() - timer)\n",
    "\n",
    "file = basic_params[\"file_results\"]\n",
    "processing_and_save(file)\n"
   ]
  },
  {
   "cell_type": "code",
   "execution_count": null,
   "metadata": {},
   "outputs": [],
   "source": [
    "import matplotlib.pyplot as plt\n",
    "plt.rcParams[\"figure.figsize\"] = (15, 2)\n",
    "from basic_parameters import basic_params\n",
    "import plot_result as my_plot\n",
    "\n",
    "file = basic_params[\"file_results\"]\n",
    "# my_plot.plot_v(file)\n",
    "\n",
    "# my_plot.plot_spike_raster(file)\n",
    "# my_plot.plot_lfp(file)\n",
    "my_plot.plot_phase_disrtibution(file)\n"
   ]
  },
  {
   "cell_type": "code",
   "execution_count": 1,
   "metadata": {},
   "outputs": [
    {
     "name": "stderr",
     "output_type": "stream",
     "text": [
      "/usr/local/lib/python3.8/dist-packages/elephant/pandas_bridge.py:21: DeprecationWarning: pandas_bridge module will be removed in Elephant v0.8.x\n",
      "  warnings.warn(\"pandas_bridge module will be removed in Elephant v0.8.x\",\n"
     ]
    },
    {
     "name": "stdout",
     "output_type": "stream",
     "text": [
      "0.014025000000099737   0.19995\n",
      "0.02415000000009916   0.19995\n",
      "0.192   0.19995\n",
      "0.009675000000099986   0.19995\n",
      "0.1787000000000744   0.19995\n",
      "0.168   0.19995\n",
      "0.178   0.19995\n",
      "0.17   0.19995\n",
      "0.186   0.19995\n",
      "0.107   0.19995\n",
      "0.008950000000100026   0.19995\n",
      "0.1817750000000716   0.19995\n",
      "0.09185000000011231   0.19995\n",
      "0.010250000000099952   0.19995\n",
      "0.07307500000010805   0.19995\n"
     ]
    }
   ],
   "source": [
    "from process import processing_and_save\n",
    "from basic_parameters import basic_params\n",
    "\n",
    "file = basic_params[\"file_results\"]\n",
    "processing_and_save(file)\n",
    "\n"
   ]
  },
  {
   "cell_type": "code",
   "execution_count": null,
   "metadata": {},
   "outputs": [],
   "source": []
  }
 ],
 "metadata": {
  "kernelspec": {
   "display_name": "Python 3",
   "language": "python",
   "name": "python3"
  },
  "language_info": {
   "codemirror_mode": {
    "name": "ipython",
    "version": 3
   },
   "file_extension": ".py",
   "mimetype": "text/x-python",
   "name": "python",
   "nbconvert_exporter": "python",
   "pygments_lexer": "ipython3",
   "version": "3.8.2"
  }
 },
 "nbformat": 4,
 "nbformat_minor": 4
}
