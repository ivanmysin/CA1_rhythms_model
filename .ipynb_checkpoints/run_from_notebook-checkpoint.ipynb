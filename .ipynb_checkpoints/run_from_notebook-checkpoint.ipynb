{
 "cells": [
  {
   "cell_type": "code",
   "execution_count": null,
   "metadata": {},
   "outputs": [],
   "source": [
    "import os\n",
    "import time\n",
    "from basic_parameters import basic_params\n",
    "from process import processing_and_save\n",
    "timer = time.time()\n",
    "os.system(\"mpiexec -n 6 python3 base_model.py\")\n",
    "print(\"Simulation is finished!\")\n",
    "print(time.time() - timer)\n",
    "\n",
    "file = basic_params[\"file_results\"]\n",
    "processing_and_save(file)\n"
   ]
  },
  {
   "cell_type": "code",
   "execution_count": null,
   "metadata": {
    "scrolled": true
   },
   "outputs": [],
   "source": [
    "import matplotlib.pyplot as plt\n",
    "plt.rcParams[\"figure.figsize\"] = (15, 2)\n",
    "from basic_parameters import basic_params\n",
    "import plot_result as my_plot\n",
    "\n",
    "file = basic_params[\"file_results\"]\n",
    "# my_plot.plot_v(file)\n",
    "\n",
    "# my_plot.plot_spike_raster(file)\n",
    "my_plot.plot_lfp(file)\n",
    "# my_plot.plot_phase_disrtibution(file)\n"
   ]
  },
  {
   "cell_type": "code",
   "execution_count": null,
   "metadata": {},
   "outputs": [],
   "source": [
    "from process import processing_and_save\n",
    "from basic_parameters import basic_params\n",
    "\n",
    "file = basic_params[\"file_results\"]\n",
    "processing_and_save(file)\n",
    "\n"
   ]
  },
  {
   "cell_type": "code",
   "execution_count": 14,
   "metadata": {},
   "outputs": [
    {
     "ename": "AttributeError",
     "evalue": "'Figure' object has no attribute 'subplot'",
     "output_type": "error",
     "traceback": [
      "\u001b[0;31m---------------------------------------------------------------------------\u001b[0m",
      "\u001b[0;31mAttributeError\u001b[0m                            Traceback (most recent call last)",
      "\u001b[0;32m<ipython-input-14-b575c054c1ae>\u001b[0m in \u001b[0;36m<module>\u001b[0;34m\u001b[0m\n\u001b[1;32m     23\u001b[0m     \u001b[0mt\u001b[0m \u001b[0;34m=\u001b[0m \u001b[0mnp\u001b[0m\u001b[0;34m.\u001b[0m\u001b[0mlinspace\u001b[0m\u001b[0;34m(\u001b[0m\u001b[0mt0\u001b[0m\u001b[0;34m,\u001b[0m \u001b[0mt1\u001b[0m\u001b[0;34m,\u001b[0m \u001b[0mlfp\u001b[0m\u001b[0;34m.\u001b[0m\u001b[0msize\u001b[0m\u001b[0;34m)\u001b[0m\u001b[0;34m\u001b[0m\u001b[0;34m\u001b[0m\u001b[0m\n\u001b[1;32m     24\u001b[0m     \u001b[0mfig\u001b[0m \u001b[0;34m=\u001b[0m \u001b[0mplt\u001b[0m\u001b[0;34m.\u001b[0m\u001b[0mfigure\u001b[0m\u001b[0;34m(\u001b[0m\u001b[0mfigsize\u001b[0m\u001b[0;34m=\u001b[0m\u001b[0;34m(\u001b[0m\u001b[0;36m15\u001b[0m\u001b[0;34m,\u001b[0m \u001b[0;36m10\u001b[0m\u001b[0;34m)\u001b[0m\u001b[0;34m)\u001b[0m\u001b[0;34m\u001b[0m\u001b[0;34m\u001b[0m\u001b[0m\n\u001b[0;32m---> 25\u001b[0;31m     \u001b[0maxes\u001b[0m \u001b[0;34m=\u001b[0m \u001b[0mfig\u001b[0m\u001b[0;34m.\u001b[0m\u001b[0msubplot\u001b[0m\u001b[0;34m(\u001b[0m\u001b[0;34m)\u001b[0m\u001b[0;34m\u001b[0m\u001b[0;34m\u001b[0m\u001b[0m\n\u001b[0m\u001b[1;32m     26\u001b[0m     \u001b[0maxes\u001b[0m\u001b[0;34m.\u001b[0m\u001b[0mplot\u001b[0m\u001b[0;34m(\u001b[0m\u001b[0mt\u001b[0m\u001b[0;34m,\u001b[0m \u001b[0mlfp\u001b[0m\u001b[0;34m)\u001b[0m\u001b[0;34m\u001b[0m\u001b[0;34m\u001b[0m\u001b[0m\n\u001b[1;32m     27\u001b[0m \u001b[0;34m\u001b[0m\u001b[0m\n",
      "\u001b[0;31mAttributeError\u001b[0m: 'Figure' object has no attribute 'subplot'"
     ]
    },
    {
     "data": {
      "text/plain": [
       "<Figure size 1080x720 with 0 Axes>"
      ]
     },
     "metadata": {},
     "output_type": "display_data"
    }
   ],
   "source": [
    "import numpy as np\n",
    "from scipy.signal import hilbert\n",
    "import matplotlib.pyplot as plt\n",
    "from matplotlib import gridspec\n",
    "import h5py\n",
    "from basic_parameters import basic_params\n",
    "import processingLib as proclib\n",
    "plt.rcParams[\"figure.figsize\"] = (15, 2)\n",
    "from basic_parameters import basic_params\n",
    "# import plot_result as my_plot\n",
    "neuron_order = [\"pyr\", \"pvbas\", \"cckbas\", \"olm\", \"bis\", \"aac\", \"ivy\", \"ngf\", \"sca\", \"mec\", \"ca3_spatial\", \"ca3_non_spatial\", \"msteevracells\", \"msach\"]\n",
    "\n",
    "# neuron_order = [\"pvbas\", \"ca3_spatial\"]\n",
    "\n",
    "filepath = basic_params[\"file_results\"]\n",
    "# my_plot.plot_spike_raster(file)\n",
    "\n",
    "with h5py.File(filepath, 'r') as h5file:\n",
    "    t0 = h5file[\"time\"][0]\n",
    "    t1 = h5file[\"time\"][-1]\n",
    "    \n",
    "    lfp = h5file[\"extracellular/electrode_1/lfp/origin_data/channel_1\"][:]\n",
    "    t = np.linspace(t0, t1, lfp.size)\n",
    "    fig, axes = plt.subplots(figsize=(15, 10))\n",
    "    axes.plot(t, lfp)\n",
    "    \n",
    "    raster_group = h5file[\"extracellular/electrode_1/firing/origin_data\"]\n",
    "                \n",
    "    fig = plt.figure(figsize=(15, 30))\n",
    "        \n",
    "    neurons_num = len(neuron_order)\n",
    "    gs = gridspec.GridSpec(neurons_num, 1)\n",
    "\n",
    "    for celltype_idx, celltype in enumerate(neuron_order):\n",
    "        try:\n",
    "            celltype_group = raster_group[celltype]\n",
    "            axes = plt.subplot(gs[celltype_idx])\n",
    "           \n",
    "            for sp_idx, (cell_key, firing) in enumerate(celltype_group.items()):\n",
    "                sp_idx += 1\n",
    "                axes.scatter(firing,  np.zeros(firing.size) + sp_idx, s=1.2, color=\"red\" )\n",
    "\n",
    "            axes.set_ylim(1, sp_idx)\n",
    "            axes.set_xlim(t0, t1)\n",
    "            axes.set_ylabel(celltype, rotation='horizontal', labelpad=20)\n",
    "\n",
    "            if celltype_idx == len(neuron_order) - 1:\n",
    "                axes.set_xlabel(\"time, ms\")\n",
    "            else:\n",
    "                axes.tick_params(labelbottom=False, bottom=False)\n",
    "        except KeyError:\n",
    "            continue\n",
    "fig.tight_layout()\n",
    "plt.show()"
   ]
  },
  {
   "cell_type": "code",
   "execution_count": null,
   "metadata": {},
   "outputs": [],
   "source": []
  }
 ],
 "metadata": {
  "kernelspec": {
   "display_name": "Python 3",
   "language": "python",
   "name": "python3"
  },
  "language_info": {
   "codemirror_mode": {
    "name": "ipython",
    "version": 3
   },
   "file_extension": ".py",
   "mimetype": "text/x-python",
   "name": "python",
   "nbconvert_exporter": "python",
   "pygments_lexer": "ipython3",
   "version": "3.8.2"
  }
 },
 "nbformat": 4,
 "nbformat_minor": 4
}
